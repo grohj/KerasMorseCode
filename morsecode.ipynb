{
  "nbformat": 4,
  "nbformat_minor": 0,
  "metadata": {
    "colab": {
      "name": "morsecode.ipynb",
      "version": "0.3.2",
      "provenance": [],
      "include_colab_link": true
    },
    "kernelspec": {
      "name": "python3",
      "display_name": "Python 3"
    },
    "accelerator": "TPU"
  },
  "cells": [
    {
      "cell_type": "markdown",
      "metadata": {
        "id": "view-in-github",
        "colab_type": "text"
      },
      "source": [
        "<a href=\"https://colab.research.google.com/github/grohj/KerasMorseCode/blob/master/morsecode.ipynb\" target=\"_parent\"><img src=\"https://colab.research.google.com/assets/colab-badge.svg\" alt=\"Open In Colab\"/></a>"
      ]
    },
    {
      "cell_type": "code",
      "metadata": {
        "id": "s99beniZeJ-U",
        "colab_type": "code",
        "outputId": "70d767e4-2e5f-4509-ffce-7dedb61d7435",
        "colab": {
          "base_uri": "https://localhost:8080/",
          "height": 51
        }
      },
      "source": [
        "import numpy as np\n",
        "import tensorflow as tf\n",
        "import tensorflow.keras as keras\n",
        "from tensorflow.keras.layers import Dense\n",
        "import keras.utils as utils\n",
        "import random\n",
        "\n",
        "\n",
        "#2 - dash, 1 - dot, 0 - blank space because not every letter has 4 dashes or dots\n",
        "codes = np.array(\n",
        "        [\n",
        "         [1,2,0,0],\n",
        "         [2,1,1,1],\n",
        "         [2,1,2,1],\n",
        "         [2,1,1,0],\n",
        "         [1,0,0,0],\n",
        "         [1,1,2,1],\n",
        "         [2,2,1,0],\n",
        "         [1,1,1,1],\n",
        "         [1,1,0,0],\n",
        "         [1,2,2,2],\n",
        "         [2,1,2,0],\n",
        "         [1,2,1,1],\n",
        "         [2,2,0,0],\n",
        "         [2,1,0,0],\n",
        "         [2,2,2,0],\n",
        "         [1,2,2,1],\n",
        "         [2,2,1,2],\n",
        "         [1,2,1,0],\n",
        "         [1,1,1,0],\n",
        "         [2,0,0,0],\n",
        "         [1,1,2,0],\n",
        "         [1,1,1,2],\n",
        "         [1,2,2,0],\n",
        "         [2,1,1,2],\n",
        "         [2,1,2,2],\n",
        "         [2,2,1,1]\n",
        "        ])\n",
        "\n",
        "morseX = codes\n",
        "morseY = utils.to_categorical(np.array(list(range(1,len(morseX)+1))))\n",
        "\n",
        "\n",
        "print(len(morseY))\n"
      ],
      "execution_count": 2,
      "outputs": [
        {
          "output_type": "stream",
          "text": [
            "26\n"
          ],
          "name": "stdout"
        },
        {
          "output_type": "stream",
          "text": [
            "Using TensorFlow backend.\n"
          ],
          "name": "stderr"
        }
      ]
    },
    {
      "cell_type": "code",
      "metadata": {
        "id": "3JgOisiFjw0f",
        "colab_type": "code",
        "outputId": "c1186ac0-d196-4ad1-e643-c79adc517262",
        "colab": {
          "base_uri": "https://localhost:8080/",
          "height": 34
        }
      },
      "source": [
        "repeatN = 1000\n",
        "trainX = np.array(list(zip(morseX,morseY)) * repeatN)\n",
        "\n",
        "random.shuffle(trainX)\n",
        "\n",
        "trainX, trainY = zip(*trainX)\n",
        "\n",
        "trainX = np.array(trainX)\n",
        "trainY = np.array(trainY)\n",
        "print(trainY.shape)\n"
      ],
      "execution_count": 3,
      "outputs": [
        {
          "output_type": "stream",
          "text": [
            "(26000, 27)\n"
          ],
          "name": "stdout"
        }
      ]
    },
    {
      "cell_type": "code",
      "metadata": {
        "id": "bGqbrkEgg8Q0",
        "colab_type": "code",
        "outputId": "5a9349c2-43f5-4b1e-e3c6-13e63301ce2f",
        "colab": {
          "base_uri": "https://localhost:8080/",
          "height": 493
        }
      },
      "source": [
        "model = keras.Sequential()\n",
        "\n",
        "model.add(Dense(4, input_shape=(4,), activation=\"relu\"))\n",
        "model.add(Dense(32, activation=\"relu\"))\n",
        "model.add(Dense(32, activation=\"relu\"))\n",
        "model.add(Dense(27, activation=\"softmax\"))\n",
        "\n",
        "\n",
        "model.compile(optimizer='adam',\n",
        "              loss='categorical_crossentropy',\n",
        "              metrics=['accuracy'])\n",
        "\n",
        "model.summary()\n",
        "\n",
        "print(trainX.shape)\n",
        "model.fit(trainX,trainY,epochs=3, batch_size=32)\n",
        "\n",
        "\n",
        "\n",
        "\n",
        "\n",
        "\n",
        "\n"
      ],
      "execution_count": 4,
      "outputs": [
        {
          "output_type": "stream",
          "text": [
            "WARNING: Logging before flag parsing goes to stderr.\n",
            "W0722 08:18:46.593104 140354257086336 deprecation.py:506] From /usr/local/lib/python3.6/dist-packages/tensorflow/python/ops/init_ops.py:1251: calling VarianceScaling.__init__ (from tensorflow.python.ops.init_ops) with dtype is deprecated and will be removed in a future version.\n",
            "Instructions for updating:\n",
            "Call initializer instance with the dtype argument instead of passing it to the constructor\n"
          ],
          "name": "stderr"
        },
        {
          "output_type": "stream",
          "text": [
            "Model: \"sequential\"\n",
            "_________________________________________________________________\n",
            "Layer (type)                 Output Shape              Param #   \n",
            "=================================================================\n",
            "dense (Dense)                (None, 4)                 20        \n",
            "_________________________________________________________________\n",
            "dense_1 (Dense)              (None, 32)                160       \n",
            "_________________________________________________________________\n",
            "dense_2 (Dense)              (None, 32)                1056      \n",
            "_________________________________________________________________\n",
            "dense_3 (Dense)              (None, 27)                891       \n",
            "=================================================================\n",
            "Total params: 2,127\n",
            "Trainable params: 2,127\n",
            "Non-trainable params: 0\n",
            "_________________________________________________________________\n",
            "(26000, 4)\n",
            "Epoch 1/3\n",
            "26000/26000 [==============================] - 1s 48us/sample - loss: 1.2085 - acc: 0.6996\n",
            "Epoch 2/3\n",
            "26000/26000 [==============================] - 1s 44us/sample - loss: 0.0143 - acc: 1.0000\n",
            "Epoch 3/3\n",
            "26000/26000 [==============================] - 1s 46us/sample - loss: 0.0027 - acc: 1.0000\n"
          ],
          "name": "stdout"
        },
        {
          "output_type": "execute_result",
          "data": {
            "text/plain": [
              "<tensorflow.python.keras.callbacks.History at 0x7fa68ba14e48>"
            ]
          },
          "metadata": {
            "tags": []
          },
          "execution_count": 4
        }
      ]
    },
    {
      "cell_type": "code",
      "metadata": {
        "id": "b4Pemi5yqZIW",
        "colab_type": "code",
        "outputId": "b0de8814-ef6c-47ac-e0a0-67810631e19f",
        "colab": {
          "base_uri": "https://localhost:8080/",
          "height": 544
        }
      },
      "source": [
        "test = codes\n",
        "pred = model.predict(test)\n",
        "\n",
        "for x in pred:\n",
        "  print(chr(ord('a')+np.argmax(x) - 1))\n",
        "\n",
        "\n",
        "print(\"\\n\")\n",
        "test = np.array([[1,1,1,0], [2,2,2,0], [1,1,1,0]])\n",
        "pred = model.predict(test)\n",
        "for x in pred:\n",
        "  print(chr(ord('a')+np.argmax(x) - 1))\n"
      ],
      "execution_count": 9,
      "outputs": [
        {
          "output_type": "stream",
          "text": [
            "a\n",
            "b\n",
            "c\n",
            "d\n",
            "e\n",
            "f\n",
            "g\n",
            "h\n",
            "i\n",
            "j\n",
            "k\n",
            "l\n",
            "m\n",
            "n\n",
            "o\n",
            "p\n",
            "q\n",
            "r\n",
            "s\n",
            "t\n",
            "u\n",
            "v\n",
            "w\n",
            "x\n",
            "y\n",
            "z\n",
            "\n",
            "\n",
            "s\n",
            "o\n",
            "s\n"
          ],
          "name": "stdout"
        }
      ]
    }
  ]
}