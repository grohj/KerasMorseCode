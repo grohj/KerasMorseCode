{
  "nbformat": 4,
  "nbformat_minor": 0,
  "metadata": {
    "colab": {
      "name": "morsecode.ipynb",
      "version": "0.3.2",
      "provenance": [],
      "include_colab_link": true
    },
    "kernelspec": {
      "name": "python3",
      "display_name": "Python 3"
    },
    "accelerator": "TPU"
  },
  "cells": [
    {
      "cell_type": "markdown",
      "metadata": {
        "id": "view-in-github",
        "colab_type": "text"
      },
      "source": [
        "<a href=\"https://colab.research.google.com/github/grohj/KerasMorseCode/blob/master/morsecode.ipynb\" target=\"_parent\"><img src=\"https://colab.research.google.com/assets/colab-badge.svg\" alt=\"Open In Colab\"/></a>"
      ]
    },
    {
      "cell_type": "code",
      "metadata": {
        "id": "s99beniZeJ-U",
        "colab_type": "code",
        "colab": {
          "base_uri": "https://localhost:8080/",
          "height": 34
        },
        "outputId": "469f3adb-f88e-4f7e-8738-b86008917e9f"
      },
      "source": [
        "import numpy as np\n",
        "import tensorflow as tf\n",
        "import tensorflow.keras as keras\n",
        "from tensorflow.keras.layers import Dense\n",
        "import keras.utils as utils\n",
        "import random\n",
        "\n",
        "\n",
        "#2 - dash, 1 - dot, 0 - blank space because not every letter has 4 dashes or dots\n",
        "codes = np.array(\n",
        "        [\n",
        "         [1,2,0,0],\n",
        "         [2,1,1,1],\n",
        "         [2,1,2,1],\n",
        "         [2,1,1,0],\n",
        "         [1,0,0,0],\n",
        "         [1,1,2,1],\n",
        "         [2,2,1,0],\n",
        "         [1,1,1,1],\n",
        "         [1,1,0,0],\n",
        "         [1,2,2,2],\n",
        "         [2,1,2,0],\n",
        "         [1,2,1,1],\n",
        "         [2,2,0,0],\n",
        "         [2,1,0,0],\n",
        "         [2,2,2,0],\n",
        "         [1,2,2,1],\n",
        "         [2,2,1,2],\n",
        "         [1,2,1,0],\n",
        "         [1,1,1,0],\n",
        "         [2,0,0,0],\n",
        "         [1,1,2,0],\n",
        "         [1,1,1,2],\n",
        "         [1,2,2,0],\n",
        "         [2,1,1,2],\n",
        "         [2,1,2,2],\n",
        "         [2,2,1,1]\n",
        "        ])\n",
        "\n",
        "morseX = codes\n",
        "morseY = utils.to_categorical(np.array(list(range(1,len(morseX)+1))))\n",
        "\n",
        "\n",
        "print(len(morseY))\n"
      ],
      "execution_count": 175,
      "outputs": [
        {
          "output_type": "stream",
          "text": [
            "26\n"
          ],
          "name": "stdout"
        }
      ]
    },
    {
      "cell_type": "code",
      "metadata": {
        "id": "3JgOisiFjw0f",
        "colab_type": "code",
        "colab": {
          "base_uri": "https://localhost:8080/",
          "height": 34
        },
        "outputId": "fb0bd51d-eb5c-4b08-eebe-aa7620d1043b"
      },
      "source": [
        "repeatN = 1000\n",
        "trainX = np.array(list(zip(morseX,morseY)) * repeatN)\n",
        "\n",
        "random.shuffle(trainX)\n",
        "\n",
        "trainX, trainY = zip(*trainX)\n",
        "\n",
        "trainX = np.array(trainX)\n",
        "trainY = np.array(trainY)\n",
        "print(trainY.shape)\n"
      ],
      "execution_count": 176,
      "outputs": [
        {
          "output_type": "stream",
          "text": [
            "(26000, 27)\n"
          ],
          "name": "stdout"
        }
      ]
    },
    {
      "cell_type": "code",
      "metadata": {
        "id": "bGqbrkEgg8Q0",
        "colab_type": "code",
        "colab": {
          "base_uri": "https://localhost:8080/",
          "height": 425
        },
        "outputId": "87de0a75-413d-43f1-cc24-08293d13cfee"
      },
      "source": [
        "model = keras.Sequential()\n",
        "\n",
        "model.add(Dense(4, input_shape=(4,), activation=\"relu\"))\n",
        "model.add(Dense(32, activation=\"relu\"))\n",
        "model.add(Dense(32, activation=\"relu\"))\n",
        "model.add(Dense(27, activation=\"softmax\"))\n",
        "\n",
        "\n",
        "model.compile(optimizer='adam',\n",
        "              loss='categorical_crossentropy',\n",
        "              metrics=['accuracy'])\n",
        "\n",
        "model.summary()\n",
        "\n",
        "print(trainX.shape)\n",
        "model.fit(trainX,trainY,epochs=3, batch_size=32)\n",
        "\n",
        "\n",
        "\n",
        "\n",
        "\n",
        "\n",
        "\n"
      ],
      "execution_count": 177,
      "outputs": [
        {
          "output_type": "stream",
          "text": [
            "Model: \"sequential_38\"\n",
            "_________________________________________________________________\n",
            "Layer (type)                 Output Shape              Param #   \n",
            "=================================================================\n",
            "dense_103 (Dense)            (None, 4)                 20        \n",
            "_________________________________________________________________\n",
            "dense_104 (Dense)            (None, 32)                160       \n",
            "_________________________________________________________________\n",
            "dense_105 (Dense)            (None, 32)                1056      \n",
            "_________________________________________________________________\n",
            "dense_106 (Dense)            (None, 27)                891       \n",
            "=================================================================\n",
            "Total params: 2,127\n",
            "Trainable params: 2,127\n",
            "Non-trainable params: 0\n",
            "_________________________________________________________________\n",
            "(26000, 4)\n",
            "Epoch 1/3\n",
            "26000/26000 [==============================] - 2s 69us/sample - loss: 1.6126 - acc: 0.5699\n",
            "Epoch 2/3\n",
            "26000/26000 [==============================] - 1s 56us/sample - loss: 0.0953 - acc: 0.9991\n",
            "Epoch 3/3\n",
            "26000/26000 [==============================] - 1s 57us/sample - loss: 0.0135 - acc: 1.0000\n"
          ],
          "name": "stdout"
        },
        {
          "output_type": "execute_result",
          "data": {
            "text/plain": [
              "<tensorflow.python.keras.callbacks.History at 0x7fb8399502e8>"
            ]
          },
          "metadata": {
            "tags": []
          },
          "execution_count": 177
        }
      ]
    },
    {
      "cell_type": "code",
      "metadata": {
        "id": "b4Pemi5yqZIW",
        "colab_type": "code",
        "colab": {
          "base_uri": "https://localhost:8080/",
          "height": 459
        },
        "outputId": "01bca07d-7cc6-4f37-a6da-963a4fa06d3b"
      },
      "source": [
        "test = codes\n",
        "pred = model.predict(test)\n",
        "\n",
        "for x in pred:\n",
        "  print(chr(ord('a')+np.argmax(x) - 1))\n",
        "\n",
        "\n"
      ],
      "execution_count": 178,
      "outputs": [
        {
          "output_type": "stream",
          "text": [
            "a\n",
            "b\n",
            "c\n",
            "d\n",
            "e\n",
            "f\n",
            "g\n",
            "h\n",
            "i\n",
            "j\n",
            "k\n",
            "l\n",
            "m\n",
            "n\n",
            "o\n",
            "p\n",
            "q\n",
            "r\n",
            "s\n",
            "t\n",
            "u\n",
            "v\n",
            "w\n",
            "x\n",
            "y\n",
            "z\n"
          ],
          "name": "stdout"
        }
      ]
    }
  ]
}